{
 "cells": [
  {
   "cell_type": "markdown",
   "metadata": {},
   "source": [
    "# Keywords extraction from papers \n",
    "\n",
    "\n",
    "This notebook shows a simple strategy to collect a reasonable set of keywords from a collection of documents. \n",
    "\n",
    "As an example, keywords will be extracted from NeurIPS corpus of abstracts. "
   ]
  },
  {
   "cell_type": "code",
   "execution_count": 1,
   "metadata": {},
   "outputs": [],
   "source": [
    "import os\n",
    "import json\n",
    "from collections import defaultdict\n",
    "\n",
    "from tqdm.notebook import tqdm\n",
    "\n",
    "from papeles.paper.neurips import get_key\n"
   ]
  },
  {
   "cell_type": "code",
   "execution_count": 2,
   "metadata": {},
   "outputs": [
    {
     "data": {
      "application/vnd.jupyter.widget-view+json": {
       "model_id": "5a3d948cd8b749b7bf01ef6ee3b82223",
       "version_major": 2,
       "version_minor": 0
      },
      "text/plain": [
       "HBox(children=(FloatProgress(value=0.0, description='loading metadata', max=6083.0, style=ProgressStyle(descri…"
      ]
     },
     "metadata": {},
     "output_type": "display_data"
    },
    {
     "name": "stdout",
     "output_type": "stream",
     "text": [
      "\n"
     ]
    }
   ],
   "source": [
    "NEURIPS_ANALYSIS_DATA_PATH = '/var/data/neurips_analysis'\n",
    "\n",
    "metadata_path = os.path.join(NEURIPS_ANALYSIS_DATA_PATH, 'files_metadata/')\n",
    "metadata = {}\n",
    "for filename in tqdm(os.listdir(metadata_path), 'loading metadata'):\n",
    "    with open(os.path.join(metadata_path, filename), 'r') as f: # open in readonly mode\n",
    "        for line in f.readlines():\n",
    "            data = json.loads(line)\n",
    "            metadata[get_key(data['pdf_name'])] = data\n"
   ]
  },
  {
   "cell_type": "code",
   "execution_count": 3,
   "metadata": {},
   "outputs": [],
   "source": [
    "from papeles.utils import text as text_utils\n",
    "from papeles.utils import keywords\n"
   ]
  },
  {
   "cell_type": "markdown",
   "metadata": {},
   "source": [
    "## Corpus generation \n",
    "\n",
    "To extract all keywords, first let's generate a two datasets with n-grams, one for n=2 and another one for n=3. \n",
    "\n",
    "The goal is to extract keywords from these versions of the data. "
   ]
  },
  {
   "cell_type": "code",
   "execution_count": 4,
   "metadata": {
    "scrolled": true
   },
   "outputs": [
    {
     "data": {
      "application/vnd.jupyter.widget-view+json": {
       "model_id": "bfcd92ba9d0f4666bdace4b7454e6ca0",
       "version_major": 2,
       "version_minor": 0
      },
      "text/plain": [
       "HBox(children=(FloatProgress(value=0.0, max=6083.0), HTML(value='')))"
      ]
     },
     "metadata": {},
     "output_type": "display_data"
    },
    {
     "name": "stdout",
     "output_type": "stream",
     "text": [
      "\n"
     ]
    }
   ],
   "source": [
    "text_list_n2_year = defaultdict(list)\n",
    "text_list_n3_year = defaultdict(list)\n",
    "for file, data in tqdm(metadata.items()):\n",
    "    text_list_n2_year[data['year']].append(text_utils.generate_ngram_text(data['abstract'], 2))\n",
    "    text_list_n3_year[data['year']].append(text_utils.generate_ngram_text(data['abstract'], 3))\n"
   ]
  },
  {
   "cell_type": "markdown",
   "metadata": {},
   "source": [
    "## Keywords extraction \n",
    "\n",
    "Now that the datasets are generated, let's extract keywords using a very simple TF-IDF model implemented in the `papeles` python package. "
   ]
  },
  {
   "cell_type": "code",
   "execution_count": 5,
   "metadata": {},
   "outputs": [
    {
     "data": {
      "application/vnd.jupyter.widget-view+json": {
       "model_id": "20ae6d15556a4ec0bb0de75b1c072426",
       "version_major": 2,
       "version_minor": 0
      },
      "text/plain": [
       "HBox(children=(FloatProgress(value=0.0, description='year', max=11.0, style=ProgressStyle(description_width='i…"
      ]
     },
     "metadata": {},
     "output_type": "display_data"
    },
    {
     "name": "stdout",
     "output_type": "stream",
     "text": [
      "\n"
     ]
    }
   ],
   "source": [
    "# Note that keywords were extracted per year (computing IDF over that particular year documents)\n",
    "\n",
    "year_keywords_counter_n2 = {} \n",
    "year_keywords_counter_n3 = {} \n",
    "for year in tqdm(range(2009, 2020), 'year'):    \n",
    "    year_keywords_counter_n2[year] = keywords.get_keywords(text_list_n2_year[year])\n",
    "    year_keywords_counter_n3[year] = keywords.get_keywords(text_list_n3_year[year])    \n"
   ]
  },
  {
   "cell_type": "code",
   "execution_count": null,
   "metadata": {},
   "outputs": [],
   "source": []
  }
 ],
 "metadata": {
  "kernelspec": {
   "display_name": "Python 3",
   "language": "python",
   "name": "python3"
  },
  "language_info": {
   "codemirror_mode": {
    "name": "ipython",
    "version": 3
   },
   "file_extension": ".py",
   "mimetype": "text/x-python",
   "name": "python",
   "nbconvert_exporter": "python",
   "pygments_lexer": "ipython3",
   "version": "3.8.0"
  }
 },
 "nbformat": 4,
 "nbformat_minor": 4
}
